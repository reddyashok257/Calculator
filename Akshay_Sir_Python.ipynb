{
  "nbformat": 4,
  "nbformat_minor": 5,
  "metadata": {
    "kernelspec": {
      "display_name": "Python 3",
      "language": "python",
      "name": "python3"
    },
    "language_info": {
      "codemirror_mode": {
        "name": "ipython",
        "version": 3
      },
      "file_extension": ".py",
      "mimetype": "text/x-python",
      "name": "python",
      "nbconvert_exporter": "python",
      "pygments_lexer": "ipython3",
      "version": "3.9.5"
    },
    "colab": {
      "name": "Akshay Sir Python.ipynb",
      "provenance": [],
      "include_colab_link": true
    }
  },
  "cells": [
    {
      "cell_type": "markdown",
      "metadata": {
        "id": "view-in-github",
        "colab_type": "text"
      },
      "source": [
        "<a href=\"https://colab.research.google.com/github/reddyashok257/Calculator/blob/master/Akshay_Sir_Python.ipynb\" target=\"_parent\"><img src=\"https://colab.research.google.com/assets/colab-badge.svg\" alt=\"Open In Colab\"/></a>"
      ]
    },
    {
      "cell_type": "code",
      "metadata": {
        "id": "4df32186",
        "outputId": "b8bf651d-21ce-4b2e-9a4d-8d02bd637b65"
      },
      "source": [
        "#Python program to count the number of vowels\n",
        "s='Hello @ 123'\n",
        "i=0\n",
        "count=0\n",
        "while i<len(s):\n",
        "    if s[i] in 'aeiouAEIOU':\n",
        "        count+=1\n",
        "    i+=1\n",
        "print(count)"
      ],
      "id": "4df32186",
      "execution_count": null,
      "outputs": [
        {
          "output_type": "stream",
          "text": [
            "2\n"
          ],
          "name": "stdout"
        }
      ]
    },
    {
      "cell_type": "code",
      "metadata": {
        "id": "e222fc29",
        "outputId": "539496a9-a73d-4ee3-8bdd-9dbec357e2e7"
      },
      "source": [
        "#Python program to count the number of consonents\n",
        "s='Hello @ 123'\n",
        "i=0\n",
        "count=0\n",
        "while i<len(s):\n",
        "    if ('a'<=s[i]<='z' or 'A'<=s[i]<='Z') and (s[i] not in 'aeiouAEIOU'):\n",
        "        count+=1\n",
        "    i+=1\n",
        "print(count)"
      ],
      "id": "e222fc29",
      "execution_count": null,
      "outputs": [
        {
          "output_type": "stream",
          "text": [
            "3\n"
          ],
          "name": "stdout"
        }
      ]
    },
    {
      "cell_type": "code",
      "metadata": {
        "id": "16559128",
        "outputId": "857582df-7782-4f10-82e1-28b16dd9e1b1"
      },
      "source": [
        "#Python program to count the number of special Characters\n",
        "s='Hello @ 123'\n",
        "i=0\n",
        "count=0\n",
        "while i<len(s):\n",
        "    if ('a'<=s[i]<='z' or 'A'<=s[i]<='Z') or('0'<=s[i]<='9'):\n",
        "        i+=1\n",
        "        continue\n",
        "    else:\n",
        "        count+=1\n",
        "        i+=1\n",
        "print(count)"
      ],
      "id": "16559128",
      "execution_count": null,
      "outputs": [
        {
          "output_type": "stream",
          "text": [
            "3\n"
          ],
          "name": "stdout"
        }
      ]
    },
    {
      "cell_type": "code",
      "metadata": {
        "id": "e6f03c7f",
        "outputId": "969bcb57-6404-4bb7-e877-2e89368f7b8a"
      },
      "source": [
        "i=51\n",
        "while i>50 and i<100:\n",
        "    print(i,end=' ')\n",
        "    i+=1"
      ],
      "id": "e6f03c7f",
      "execution_count": null,
      "outputs": [
        {
          "output_type": "stream",
          "text": [
            "51 52 53 54 55 56 57 58 59 60 61 62 63 64 65 66 67 68 69 70 71 72 73 74 75 76 77 78 79 80 81 82 83 84 85 86 87 88 89 90 91 92 93 94 95 96 97 98 99 "
          ],
          "name": "stdout"
        }
      ]
    },
    {
      "cell_type": "code",
      "metadata": {
        "id": "e57b3cf0",
        "outputId": "359d8d0a-b04f-45bc-ab1f-17473447990e"
      },
      "source": [
        "s='Hello_@_123'\n",
        "i=0\n",
        "st=''\n",
        "while i<len(s):\n",
        "    if ('a'<=s[i]<='z' or 'A'<=s[i]<='Z') or('0'<=s[i]<='9'):\n",
        "        i+=1\n",
        "        continue\n",
        "    else:\n",
        "        st+=s[i]\n",
        "        i+=1\n",
        "print(st)"
      ],
      "id": "e57b3cf0",
      "execution_count": null,
      "outputs": [
        {
          "output_type": "stream",
          "text": [
            "_@_\n"
          ],
          "name": "stdout"
        }
      ]
    },
    {
      "cell_type": "code",
      "metadata": {
        "id": "796f8e0b",
        "outputId": "6588d674-6df2-40a8-f925-87b8ff22fd98"
      },
      "source": [
        "s='Hello @ 123'\n",
        "i=0\n",
        "st=''\n",
        "while i<len(s):\n",
        "    if s[i] in 'aeiouAEIOU':\n",
        "        i+=1\n",
        "        continue\n",
        "    else:\n",
        "        st+=s[i]\n",
        "        i+=1\n",
        "print(st)"
      ],
      "id": "796f8e0b",
      "execution_count": null,
      "outputs": [
        {
          "output_type": "stream",
          "text": [
            "Hll @ 123\n"
          ],
          "name": "stdout"
        }
      ]
    },
    {
      "cell_type": "code",
      "metadata": {
        "id": "71019679",
        "outputId": "05ae97b7-75f6-4709-97dc-c3a90ea69698"
      },
      "source": [
        "s='Hello @ 123'\n",
        "st=''\n",
        "for i in s:\n",
        "    if 'A'<=i<='Z':\n",
        "        st+=i\n",
        "    elif 'a'<=i<='z':\n",
        "        st+=chr(ord(i)-32)\n",
        "    else:\n",
        "        st+=i\n",
        "print(st)"
      ],
      "id": "71019679",
      "execution_count": null,
      "outputs": [
        {
          "output_type": "stream",
          "text": [
            "HELLO @ 123\n"
          ],
          "name": "stdout"
        }
      ]
    },
    {
      "cell_type": "code",
      "metadata": {
        "id": "098b5fd6",
        "outputId": "0cd9adad-285c-4903-a496-e1ff6249b708"
      },
      "source": [
        "ord('A')-ord('a')"
      ],
      "id": "098b5fd6",
      "execution_count": null,
      "outputs": [
        {
          "output_type": "execute_result",
          "data": {
            "text/plain": [
              "-32"
            ]
          },
          "metadata": {
            "tags": []
          },
          "execution_count": 5
        }
      ]
    },
    {
      "cell_type": "code",
      "metadata": {
        "id": "603da53a",
        "outputId": "aa5686fc-393a-48e2-8529-18dd14586e37"
      },
      "source": [
        "s='Hello @ 123'\n",
        "st=''\n",
        "for i in s:\n",
        "    if 'A'<=i<='Z':\n",
        "        st+=chr(ord(i)+32)\n",
        "    elif 'a'<=i<='z':\n",
        "        st+=i\n",
        "    else:\n",
        "        st+=i\n",
        "print(st)"
      ],
      "id": "603da53a",
      "execution_count": null,
      "outputs": [
        {
          "output_type": "stream",
          "text": [
            "hello @ 123\n"
          ],
          "name": "stdout"
        }
      ]
    },
    {
      "cell_type": "code",
      "metadata": {
        "id": "1bb34fda",
        "outputId": "eb362c05-006e-465a-af5a-8b0b48fd1186"
      },
      "source": [
        "#Write fibonacci series upto n\n",
        "def fib(n):\n",
        "    a,b=0,1\n",
        "    while a<n:\n",
        "        print(a,end=' ')\n",
        "        a,b=b,a+b\n",
        "    print()\n",
        "fib(2000)\n",
        "print('-'*15)\n",
        "print(fib(200))"
      ],
      "id": "1bb34fda",
      "execution_count": null,
      "outputs": [
        {
          "output_type": "stream",
          "text": [
            "0 1 1 2 3 5 8 13 21 34 55 89 144 233 377 610 987 1597 \n",
            "---------------\n",
            "0 1 1 2 3 5 8 13 21 34 55 89 144 \n",
            "None\n"
          ],
          "name": "stdout"
        }
      ]
    },
    {
      "cell_type": "code",
      "metadata": {
        "colab": {
          "base_uri": "https://localhost:8080/"
        },
        "id": "7db8a560",
        "outputId": "631a81e4-dae1-44a5-c353-83ba0bd1b7e0"
      },
      "source": [
        "try:\n",
        "  days=input('No of days: ')\n",
        "  days=float(days)\n",
        "  rate=input('rate: ')\n",
        "  rate=float(rate)\n",
        "  pay=days*rate\n",
        "  print(pay)\n",
        "except:\n",
        "  print('Please Enter numeric Value')"
      ],
      "id": "7db8a560",
      "execution_count": null,
      "outputs": [
        {
          "output_type": "stream",
          "text": [
            "No of days: 5\n",
            "rate: o\n",
            "Please Enter numeric Value\n"
          ],
          "name": "stdout"
        }
      ]
    },
    {
      "cell_type": "code",
      "metadata": {
        "colab": {
          "base_uri": "https://localhost:8080/"
        },
        "id": "EJH7KVE3gB8L",
        "outputId": "29e67a6c-6744-425c-96d8-7d2b729efaa4"
      },
      "source": [
        "def pay(days,rate):\n",
        "  try:\n",
        "    days=float(days)\n",
        "    rate=float(rate)\n",
        "    pay=days*rate\n",
        "    return (pay)\n",
        "  except:\n",
        "    return ('Please Enter numeric Value')\n",
        "pay(45,10)"
      ],
      "id": "EJH7KVE3gB8L",
      "execution_count": 6,
      "outputs": [
        {
          "output_type": "execute_result",
          "data": {
            "text/plain": [
              "450.0"
            ]
          },
          "metadata": {
            "tags": []
          },
          "execution_count": 6
        }
      ]
    },
    {
      "cell_type": "code",
      "metadata": {
        "colab": {
          "base_uri": "https://localhost:8080/"
        },
        "id": "UwFFF-xMkczo",
        "outputId": "09f898eb-4487-42c3-8219-85a0b541b97c"
      },
      "source": [
        "sum = 0\n",
        "avg=0\n",
        "count = 0\n",
        "while True:\n",
        "  inp = input('Enter a number: ')\n",
        "  try:\n",
        "    num=float(inp)\n",
        "    sum += num\n",
        "    count += 1\n",
        "  except:\n",
        "    if inp == 'exit':\n",
        "      break\n",
        "    print('please enter a number')\n",
        "\n",
        "try:\n",
        "  avg=sum/count\n",
        "except :\n",
        "      print('Divide by zero error')\n",
        "print(sum)\n",
        "print(count)\n",
        "print(avg)"
      ],
      "id": "UwFFF-xMkczo",
      "execution_count": 13,
      "outputs": [
        {
          "output_type": "stream",
          "text": [
            "Enter a number: 5.5\n",
            "Enter a number: 10.5\n",
            "Enter a number: gfh\n",
            "please enter a number\n",
            "Enter a number: 45\n",
            "Enter a number: exit\n",
            "61.0\n",
            "3\n",
            "20.333333333333332\n"
          ],
          "name": "stdout"
        }
      ]
    }
  ]
}